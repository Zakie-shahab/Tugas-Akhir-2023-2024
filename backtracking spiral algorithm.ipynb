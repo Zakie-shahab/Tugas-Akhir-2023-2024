{
 "cells": [
  {
   "cell_type": "code",
   "execution_count": 1,
   "metadata": {},
   "outputs": [],
   "source": [
    "myarena = [\n",
    "    [1, 0, 0, 0, 0, 0, 0, 0, 0, 0, 6, 0, 0, 0, 0], # 0 - 14\n",
    "    [6, 6, 6, 6, 6, 6, 6, 0, 0, 0, 6, 0, 0, 0, 0], # 15 - 29\n",
    "    [0, 0, 0, 0, 0, 0, 6, 0, 0, 0, 6, 0, 0, 0, 0], # 30 - 44\n",
    "    [0, 0, 0, 0, 0, 0, 6, 0, 0, 0, 6, 0, 0, 0, 0], # 45 - 59\n",
    "    [0, 0, 0, 0, 0, 0, 6, 0, 6, 0, 6, 6, 6, 6, 0], # 60 - 74\n",
    "    [0, 6, 6, 6, 6, 6, 6, 0, 6, 0, 0, 0, 6, 6, 0], # 75 - 89\n",
    "    [0, 0, 0, 0, 0, 0, 0, 0, 0, 0, 0, 0, 0, 0, 0], # 90 - 104\n",
    "    [6, 6, 0, 0, 0, 0, 0, 0, 0, 0, 6, 6, 6, 6, 6], # 105 - 119\n",
    "    [6, 6, 0, 0, 0, 0, 0, 0, 0, 0, 0, 0, 6, 6, 6]  # 120 - 134\n",
    "]\n",
    "xpos = 0\n",
    "ypos = 0\n",
    "# 0 = atas\n",
    "# 1 = kanan\n",
    "# 2 = bawah\n",
    "# 3 = kiri"
   ]
  },
  {
   "cell_type": "code",
   "execution_count": 4,
   "metadata": {},
   "outputs": [],
   "source": [
    "def nextmove(lastmove, arena, xpos, ypos):\n",
    "    if (lastmove == 0): #atas\n",
    "        if (xpos-1 != -1): #kiri\n",
    "            if (arena[ypos][xpos-1] == 0):\n",
    "                return 3\n",
    "        if (ypos-1 != -1): #atas\n",
    "            if (arena[ypos-1][xpos] == 0):\n",
    "                return 0\n",
    "        if (xpos+1 != 15): #kanan\n",
    "            if (arena[ypos][xpos+1] == 0):\n",
    "                return 1\n",
    "        if (ypos+1 != 9): #bawah\n",
    "            if (arena[ypos+1][xpos] == 0):\n",
    "                return 2\n",
    "        return 5\n",
    "    elif (lastmove == 1): #kanan\n",
    "        if (ypos-1 != -1): #atas\n",
    "            if (arena[ypos-1][xpos] == 0):\n",
    "                return 0\n",
    "        if (xpos+1 != 15): #kanan\n",
    "            if (arena[ypos][xpos+1] == 0):\n",
    "                return 1\n",
    "        if (ypos+1 != 9): #bawah\n",
    "            if (arena[ypos+1][xpos] == 0):\n",
    "                return 2\n",
    "        if (xpos-1 != -1): #kiri\n",
    "            if (arena[ypos][xpos-1] == 0):\n",
    "                return 3\n",
    "        return 5\n",
    "    elif (lastmove == 2): #bawah\n",
    "        if (xpos+1 != 15): #kanan\n",
    "            if (arena[ypos][xpos+1] == 0):\n",
    "                return 1\n",
    "        if (ypos+1 != 9): #bawah\n",
    "            if (arena[ypos+1][xpos] == 0):\n",
    "                return 2\n",
    "        if (xpos-1 != -1): #kiri\n",
    "            if (arena[ypos][xpos-1] == 0):\n",
    "                return 3\n",
    "        if (ypos-1 != -1): #atas\n",
    "            if (arena[ypos-1][xpos] == 0):\n",
    "                return 0\n",
    "        return 5\n",
    "    else: #kiri\n",
    "        if (ypos+1 != 9): #bawah\n",
    "            if (arena[ypos+1][xpos] == 0):\n",
    "                return 2\n",
    "        if (xpos-1 != -1): #kiri\n",
    "            if (arena[ypos][xpos-1] == 0):\n",
    "                return 3\n",
    "        if (ypos-1 != -1): #atas\n",
    "            if (arena[ypos-1][xpos] == 0):\n",
    "                return 0\n",
    "        if (xpos+1 != 15): #kanan\n",
    "            if (arena[ypos][xpos+1] == 0):\n",
    "                return 1\n",
    "        return 5"
   ]
  },
  {
   "cell_type": "code",
   "execution_count": 5,
   "metadata": {},
   "outputs": [],
   "source": [
    "lastaction = 1"
   ]
  },
  {
   "cell_type": "code",
   "execution_count": 46,
   "metadata": {},
   "outputs": [
    {
     "name": "stdout",
     "output_type": "stream",
     "text": [
      "tidak bisa apa-apa\n",
      "5\n"
     ]
    },
    {
     "data": {
      "text/plain": [
       "[[1, 1, 1, 1, 1, 1, 1, 1, 1, 1, 6, 1, 1, 1, 1],\n",
       " [6, 6, 6, 6, 6, 6, 6, 0, 0, 1, 6, 1, 1, 1, 1],\n",
       " [0, 0, 0, 0, 0, 0, 6, 0, 0, 1, 6, 1, 1, 1, 1],\n",
       " [0, 0, 0, 0, 0, 0, 6, 0, 0, 1, 6, 1, 1, 1, 1],\n",
       " [0, 0, 0, 0, 0, 0, 6, 0, 6, 1, 6, 6, 6, 6, 1],\n",
       " [0, 6, 6, 6, 6, 6, 6, 0, 6, 1, 1, 1, 6, 6, 1],\n",
       " [0, 0, 0, 0, 0, 0, 0, 0, 0, 0, 0, 1, 1, 1, 1],\n",
       " [6, 6, 0, 0, 0, 0, 0, 0, 0, 0, 6, 6, 6, 6, 6],\n",
       " [6, 6, 0, 0, 0, 0, 0, 0, 0, 0, 0, 0, 6, 6, 6]]"
      ]
     },
     "execution_count": 46,
     "metadata": {},
     "output_type": "execute_result"
    }
   ],
   "source": [
    "action = nextmove(lastaction, myarena, xpos, ypos)\n",
    "if (action == 0):\n",
    "    ypos -= 1\n",
    "    myarena[ypos][xpos] = 1\n",
    "elif (action == 1):\n",
    "    xpos += 1\n",
    "    myarena[ypos][xpos] = 1\n",
    "elif (action == 2):\n",
    "    ypos += 1\n",
    "    myarena[ypos][xpos] = 1\n",
    "elif (action == 3):\n",
    "    xpos -= 1\n",
    "    myarena[ypos][xpos] = 1\n",
    "else:\n",
    "    print(\"tidak bisa apa-apa\")\n",
    "lastaction = action\n",
    "print(lastaction)\n",
    "myarena"
   ]
  },
  {
   "cell_type": "code",
   "execution_count": 61,
   "metadata": {},
   "outputs": [],
   "source": [
    "import random\n",
    "import numpy as np"
   ]
  },
  {
   "cell_type": "code",
   "execution_count": null,
   "metadata": {},
   "outputs": [],
   "source": [
    "def searchzero(arena, xpos, ypos):\n",
    "    Qtable = [[0 for i in range(4)] for i in range(135)]\n",
    "    learningrate = 0.1\n",
    "    discountrate = 1.0\n",
    "    explorationrate = 0.1\n",
    "    episode = 100\n",
    "    movement = [0, 1, 2, 3]\n",
    "    doit = False\n",
    "    for i in range(episode):\n",
    "        state = xpos + 15*ypos\n",
    "        newypos = ypos\n",
    "        newxpos = xpos\n",
    "        reward = -1\n",
    "        while True:\n",
    "            if (newypos + 1 == 9 or arena[newypos+1][newxpos] != 0 or arena[newypos+1][newxpos] != 1):\n",
    "                movement.remove(2)\n",
    "            if (newxpos + 1 == 15 or arena[newypos][newxpos+1] != 0 or arena[newypos][newxpos+1] != 1):\n",
    "                movement.remove(1)\n",
    "            if (newxpos - 1 == -1 or arena[newypos][newxpos-1] != 0 or arena[newypos][newxpos-1] != 1):\n",
    "                movement.remove(3)\n",
    "            if (newypos -1 == -1 or arena[newypos-1][newxpos] != 0 or arena[newypos-1][newxpos] != 1):\n",
    "                movement.remove(0)\n",
    "            if (random.uniform(0, 1) < explorationrate):\n",
    "                myaction = random.choice(movement)\n",
    "            else:\n",
    "                myaction = np.argmax(Qtable[state])\n",
    "                while (myaction not in movement):\n",
    "                    myaction = np.argmax(Qtable[state])\n",
    "            if (myaction == 0):\n",
    "                newypos -= 1\n",
    "            elif (myaction == 1):\n",
    "                newxpos += 1\n",
    "            elif (myaction == 2):\n",
    "                newypos += 1\n",
    "            elif (myaction == 3):\n",
    "                newxpos -= 1\n",
    "            newstate = newxpos + 15*newypos\n",
    "            if (arena[newypos][newxpos] == 0):\n",
    "                reward += 10\n",
    "            oldvalue = Qtable[state][myaction]\n",
    "            nextvalue = max(Qtable[newstate])\n",
    "            newvalue = (1-learningrate)*oldvalue + learningrate*(reward + discountrate*nextvalue)\n",
    "            Qtable[state][myaction] = newvalue\n",
    "            state = newstate\n",
    "            movement = [0, 1, 2, 3]\n",
    "            if (arena[newypos][newxpos] == 0):\n",
    "                break\n",
    "    changexpos = xpos\n",
    "    changeypos = ypos\n",
    "    statenow = xpos + 15*ypos\n",
    "    while (not doit):\n",
    "        goaction = np.argmax"
   ]
  },
  {
   "cell_type": "code",
   "execution_count": 57,
   "metadata": {},
   "outputs": [],
   "source": []
  },
  {
   "cell_type": "code",
   "execution_count": 59,
   "metadata": {},
   "outputs": [
    {
     "name": "stdout",
     "output_type": "stream",
     "text": [
      "True\n"
     ]
    }
   ],
   "source": [
    "x = 0\n",
    "anu = [1, 2, 3]\n",
    "print(1 in anu)"
   ]
  }
 ],
 "metadata": {
  "kernelspec": {
   "display_name": "Python 3",
   "language": "python",
   "name": "python3"
  },
  "language_info": {
   "codemirror_mode": {
    "name": "ipython",
    "version": 3
   },
   "file_extension": ".py",
   "mimetype": "text/x-python",
   "name": "python",
   "nbconvert_exporter": "python",
   "pygments_lexer": "ipython3",
   "version": "3.11.4"
  },
  "orig_nbformat": 4
 },
 "nbformat": 4,
 "nbformat_minor": 2
}
